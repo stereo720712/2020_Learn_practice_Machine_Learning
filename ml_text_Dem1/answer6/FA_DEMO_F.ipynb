{
 "cells": [
  {
   "cell_type": "code",
   "execution_count": 1,
   "metadata": {
    "scrolled": true
   },
   "outputs": [],
   "source": [
    "import sys\n",
    "sys.path.append(\".\")\n",
    "from MLDemo1CL import MLDemo1CL\n",
    "mlDemo = MLDemo1CL()\n"
   ]
  },
  {
   "cell_type": "code",
   "execution_count": 2,
   "metadata": {},
   "outputs": [
    {
     "name": "stdout",
     "output_type": "stream",
     "text": [
      "Loading data finish\n"
     ]
    }
   ],
   "source": [
    "## Load data from txt file\n",
    "mlDemo.loadData()\n"
   ]
  },
  {
   "cell_type": "code",
   "execution_count": 3,
   "metadata": {},
   "outputs": [
    {
     "data": {
      "text/html": [
       "<div>\n",
       "<style scoped>\n",
       "    .dataframe tbody tr th:only-of-type {\n",
       "        vertical-align: middle;\n",
       "    }\n",
       "\n",
       "    .dataframe tbody tr th {\n",
       "        vertical-align: top;\n",
       "    }\n",
       "\n",
       "    .dataframe thead th {\n",
       "        text-align: right;\n",
       "    }\n",
       "</style>\n",
       "<table border=\"1\" class=\"dataframe\">\n",
       "  <thead>\n",
       "    <tr style=\"text-align: right;\">\n",
       "      <th></th>\n",
       "      <th>category</th>\n",
       "      <th>document_id</th>\n",
       "      <th>story</th>\n",
       "    </tr>\n",
       "  </thead>\n",
       "  <tbody>\n",
       "    <tr>\n",
       "      <th>0</th>\n",
       "      <td>business</td>\n",
       "      <td>001</td>\n",
       "      <td>Ad sales boost Time Warner profit\\n\\nQuarterly...</td>\n",
       "    </tr>\n",
       "    <tr>\n",
       "      <th>1</th>\n",
       "      <td>business</td>\n",
       "      <td>002</td>\n",
       "      <td>Dollar gains on Greenspan speech\\n\\nThe dollar...</td>\n",
       "    </tr>\n",
       "    <tr>\n",
       "      <th>2</th>\n",
       "      <td>business</td>\n",
       "      <td>003</td>\n",
       "      <td>Yukos unit buyer faces loan claim\\n\\nThe owner...</td>\n",
       "    </tr>\n",
       "    <tr>\n",
       "      <th>3</th>\n",
       "      <td>business</td>\n",
       "      <td>004</td>\n",
       "      <td>High fuel prices hit BA's profits\\n\\nBritish A...</td>\n",
       "    </tr>\n",
       "    <tr>\n",
       "      <th>4</th>\n",
       "      <td>business</td>\n",
       "      <td>005</td>\n",
       "      <td>Pernod takeover talk lifts Domecq\\n\\nShares in...</td>\n",
       "    </tr>\n",
       "  </tbody>\n",
       "</table>\n",
       "</div>"
      ],
      "text/plain": [
       "   category document_id                                              story\n",
       "0  business         001  Ad sales boost Time Warner profit\\n\\nQuarterly...\n",
       "1  business         002  Dollar gains on Greenspan speech\\n\\nThe dollar...\n",
       "2  business         003  Yukos unit buyer faces loan claim\\n\\nThe owner...\n",
       "3  business         004  High fuel prices hit BA's profits\\n\\nBritish A...\n",
       "4  business         005  Pernod takeover talk lifts Domecq\\n\\nShares in..."
      ]
     },
     "execution_count": 3,
     "metadata": {},
     "output_type": "execute_result"
    }
   ],
   "source": [
    "# show data format\n",
    "mlDemo.df.head()"
   ]
  },
  {
   "cell_type": "code",
   "execution_count": 4,
   "metadata": {},
   "outputs": [
    {
     "name": "stdout",
     "output_type": "stream",
     "text": [
      "    agg_filter = None\n",
      "    alpha = None\n",
      "    animated = False\n",
      "    bbox_patch = None\n",
      "    children = []\n",
      "    clip_box = None\n",
      "    clip_on = True\n",
      "    clip_path = None\n",
      "    color or c = black\n",
      "    contains = None\n",
      "    figure = Figure(432x288)\n",
      "    fontfamily or family = ['sans-serif']\n",
      "    fontname or name = DejaVu Sans\n",
      "    fontproperties or font_properties = :family=sans-serif:style=normal:variant=normal:wei...\n",
      "    fontsize or size = 12.0\n",
      "    fontstyle or style = normal\n",
      "    fontvariant or variant = normal\n",
      "    fontweight or weight = normal\n",
      "    gid = None\n",
      "    horizontalalignment or ha = center\n",
      "    in_layout = True\n",
      "    label = \n",
      "    path_effects = []\n",
      "    picker = None\n",
      "    position = (0.5, 1.0)\n",
      "    rasterized = None\n",
      "    rotation = 0.0\n",
      "    rotation_mode = None\n",
      "    sketch_params = None\n",
      "    snap = None\n",
      "    stretch = normal\n",
      "    text = Number of documents in each  category\n",
      "    transform = CompositeGenericTransform(     BboxTransformTo(   ...\n",
      "    transformed_clip_path_and_affine = (None, None)\n",
      "    unitless_position = (0.5, 1.0)\n",
      "    url = None\n",
      "    usetex = False\n",
      "    verticalalignment or va = baseline\n",
      "    visible = True\n",
      "    wrap = False\n",
      "    zorder = 3\n"
     ]
    },
    {
     "data": {
      "image/png": "[encoded data removed]",
      "text/plain": [
       "<Figure size 432x288 with 1 Axes>"
      ]
     },
     "metadata": {
      "needs_background": "light"
     },
     "output_type": "display_data"
    }
   ],
   "source": [
    "# show simple count for category count\n",
    "mlDemo.showSourceDataCountGraph()\n"
   ]
  },
  {
   "cell_type": "code",
   "execution_count": 5,
   "metadata": {},
   "outputs": [
    {
     "name": "stdout",
     "output_type": "stream",
     "text": [
      "  (0, 12926)\t0.04351642678951378\n",
      "  (0, 7396)\t0.04844125578732871\n",
      "  (0, 10616)\t0.04067561776970401\n",
      "  (0, 1792)\t0.04658698901924094\n",
      "  (0, 10197)\t0.04164793862417359\n",
      "  (0, 4502)\t0.07239786558562411\n",
      "  (0, 11540)\t0.15839583540993696\n",
      "  (0, 9664)\t0.0578460917621912\n",
      "  (0, 9641)\t0.06588144539677804\n",
      "  (0, 8135)\t0.03596225433679374\n",
      "  (0, 5399)\t0.046226963976668006\n",
      "  (0, 13193)\t0.026698818987989145\n",
      "  (0, 647)\t0.07676845299491679\n",
      "  (0, 6498)\t0.06340459682076556\n",
      "  (0, 356)\t0.06340459682076556\n",
      "  (0, 9409)\t0.04489338625977047\n",
      "  (0, 10234)\t0.06397394208041818\n",
      "  (0, 7145)\t0.04004913056126858\n",
      "  (0, 1167)\t0.05719297403669418\n",
      "  (0, 10930)\t0.054566307700479925\n",
      "  (0, 8226)\t0.03932853664598645\n",
      "  (0, 915)\t0.044789162028876714\n",
      "  (0, 4483)\t0.05890401560420905\n",
      "  (0, 12688)\t0.05490805760365399\n",
      "  (0, 10349)\t0.05015229735484358\n",
      "  :\t:\n",
      "  (0, 6586)\t0.04708594039095081\n",
      "  (0, 1635)\t0.03523711170729339\n",
      "  (0, 8530)\t0.03856584003381867\n",
      "  (0, 4965)\t0.03185898822986862\n",
      "  (0, 12218)\t0.02367358679824986\n",
      "  (0, 4134)\t0.0695294170802966\n",
      "  (0, 13503)\t0.07438362810130442\n",
      "  (0, 3439)\t0.03699211293241321\n",
      "  (0, 8020)\t0.031291261134667764\n",
      "  (0, 12283)\t0.05119325738068863\n",
      "  (0, 388)\t0.07505741142740192\n",
      "  (0, 63)\t0.07505741142740192\n",
      "  (0, 430)\t0.06659781001155668\n",
      "  (0, 6827)\t0.0581876509894304\n",
      "  (0, 5417)\t0.04180538522199892\n",
      "  (0, 7753)\t0.038357443486952386\n",
      "  (0, 12883)\t0.06555402245741655\n",
      "  (0, 9500)\t0.2360713159815318\n",
      "  (0, 9714)\t0.06234667297874773\n",
      "  (0, 9495)\t0.24366686310424476\n",
      "  (0, 13150)\t0.20209085106016286\n",
      "  (0, 12335)\t0.0662710228227628\n",
      "  (0, 1803)\t0.04280006217473513\n",
      "  (0, 10617)\t0.15028912794102445\n",
      "  (0, 621)\t0.06397394208041818\n"
     ]
    }
   ],
   "source": [
    "# data pre process \n",
    "mlDemo.data_process()"
   ]
  },
  {
   "cell_type": "code",
   "execution_count": 6,
   "metadata": {},
   "outputs": [],
   "source": [
    "# model training \n",
    "mlDemo.model_train()"
   ]
  },
  {
   "cell_type": "code",
   "execution_count": 10,
   "metadata": {},
   "outputs": [
    {
     "name": "stdout",
     "output_type": "stream",
     "text": [
      "預測結果是：  ['politics']\n"
     ]
    }
   ],
   "source": [
    "\n",
    "\n",
    "    "
   ]
  },
  {
   "cell_type": "code",
   "execution_count": 7,
   "metadata": {},
   "outputs": [
    {
     "name": "stdout",
     "output_type": "stream",
     "text": [
      "['business' 'sport' 'politics' 'sport' 'entertainment' 'tech' 'tech'\n",
      " 'entertainment' 'business' 'entertainment' 'business' 'politics'\n",
      " 'entertainment' 'sport' 'sport' 'tech' 'sport' 'business' 'politics'\n",
      " 'sport' 'politics' 'business' 'sport' 'entertainment' 'business'\n",
      " 'business' 'tech' 'politics' 'sport' 'tech' 'sport' 'tech'\n",
      " 'entertainment' 'politics' 'tech' 'business' 'business' 'entertainment'\n",
      " 'politics' 'sport' 'politics' 'business' 'business' 'sport'\n",
      " 'entertainment' 'tech' 'sport' 'business' 'sport' 'sport' 'sport'\n",
      " 'business' 'tech' 'business' 'sport' 'entertainment' 'business'\n",
      " 'entertainment' 'entertainment' 'sport' 'entertainment' 'sport' 'sport'\n",
      " 'tech' 'entertainment' 'tech' 'entertainment' 'business' 'politics'\n",
      " 'business' 'entertainment' 'business' 'politics' 'entertainment'\n",
      " 'entertainment' 'politics' 'sport' 'sport' 'business' 'entertainment'\n",
      " 'business' 'business' 'business' 'entertainment' 'sport' 'sport'\n",
      " 'business' 'entertainment' 'sport' 'entertainment' 'entertainment'\n",
      " 'politics' 'tech' 'politics' 'tech' 'tech' 'politics' 'entertainment'\n",
      " 'entertainment' 'sport' 'business' 'politics' 'tech' 'politics'\n",
      " 'entertainment' 'entertainment' 'tech' 'entertainment' 'tech' 'business'\n",
      " 'tech' 'entertainment' 'entertainment' 'politics' 'sport' 'business'\n",
      " 'politics' 'entertainment' 'tech' 'tech' 'politics' 'tech'\n",
      " 'entertainment' 'business' 'politics' 'business' 'business'\n",
      " 'entertainment' 'tech' 'business' 'business' 'politics' 'entertainment'\n",
      " 'tech' 'business' 'sport' 'business' 'business' 'entertainment' 'tech'\n",
      " 'sport' 'tech' 'business' 'entertainment' 'business' 'entertainment'\n",
      " 'business' 'tech' 'business' 'politics' 'business' 'politics'\n",
      " 'entertainment' 'business' 'entertainment' 'sport' 'sport' 'sport'\n",
      " 'sport' 'business' 'business' 'entertainment' 'business' 'politics'\n",
      " 'sport' 'politics' 'politics' 'business' 'entertainment' 'entertainment'\n",
      " 'tech' 'sport' 'entertainment' 'politics' 'entertainment' 'entertainment'\n",
      " 'tech' 'entertainment' 'politics' 'entertainment' 'business' 'politics'\n",
      " 'business' 'politics' 'sport' 'business' 'sport' 'business' 'tech'\n",
      " 'entertainment' 'sport' 'business' 'politics' 'politics' 'entertainment'\n",
      " 'sport' 'business' 'tech' 'entertainment' 'politics' 'entertainment'\n",
      " 'tech' 'sport' 'entertainment' 'sport' 'business' 'politics' 'politics'\n",
      " 'sport' 'sport' 'tech' 'entertainment' 'politics' 'tech' 'politics'\n",
      " 'tech' 'entertainment' 'business' 'tech' 'tech' 'sport' 'tech' 'politics'\n",
      " 'sport' 'politics' 'politics' 'tech' 'entertainment' 'entertainment'\n",
      " 'business' 'entertainment' 'tech' 'business' 'sport' 'tech' 'sport'\n",
      " 'politics' 'sport' 'business' 'business' 'sport' 'entertainment'\n",
      " 'entertainment' 'business' 'business' 'entertainment' 'entertainment'\n",
      " 'politics' 'tech' 'sport' 'business' 'entertainment' 'sport' 'sport'\n",
      " 'politics' 'business' 'sport' 'politics' 'politics' 'business'\n",
      " 'entertainment' 'politics' 'politics' 'politics' 'politics' 'business'\n",
      " 'sport' 'entertainment' 'tech' 'business' 'business' 'entertainment'\n",
      " 'sport' 'tech' 'politics' 'tech' 'entertainment' 'politics'\n",
      " 'entertainment' 'sport' 'sport' 'politics' 'sport' 'politics' 'politics'\n",
      " 'tech' 'business' 'business' 'business' 'sport' 'sport' 'entertainment'\n",
      " 'entertainment' 'entertainment' 'entertainment' 'entertainment'\n",
      " 'entertainment' 'sport' 'sport' 'business' 'sport' 'business' 'tech'\n",
      " 'politics' 'business' 'tech' 'business' 'business' 'politics' 'business'\n",
      " 'entertainment' 'entertainment' 'sport' 'politics' 'business' 'tech'\n",
      " 'business' 'sport' 'tech' 'tech' 'business' 'entertainment' 'tech'\n",
      " 'sport' 'politics' 'politics' 'tech' 'tech' 'tech' 'politics' 'business'\n",
      " 'politics' 'sport' 'business' 'business' 'politics' 'politics' 'sport'\n",
      " 'business' 'politics' 'tech' 'business' 'politics' 'business' 'sport'\n",
      " 'business' 'sport' 'politics' 'entertainment' 'sport' 'politics' 'tech'\n",
      " 'entertainment' 'entertainment' 'sport' 'tech' 'politics' 'entertainment'\n",
      " 'sport' 'business' 'tech' 'politics' 'entertainment' 'politics'\n",
      " 'business' 'business' 'business' 'sport' 'tech' 'sport' 'business'\n",
      " 'business' 'sport' 'entertainment' 'sport' 'business' 'entertainment'\n",
      " 'sport' 'entertainment' 'politics' 'tech' 'entertainment' 'tech'\n",
      " 'business' 'business' 'tech' 'tech' 'business' 'politics' 'sport'\n",
      " 'politics' 'politics' 'tech' 'politics' 'tech' 'politics' 'tech' 'sport'\n",
      " 'business' 'sport' 'entertainment' 'sport' 'tech' 'politics' 'business'\n",
      " 'business' 'entertainment' 'business' 'tech' 'entertainment' 'business'\n",
      " 'sport' 'entertainment' 'sport' 'business' 'entertainment' 'tech' 'tech'\n",
      " 'politics' 'business' 'politics' 'tech' 'business' 'business' 'business'\n",
      " 'business' 'sport' 'entertainment' 'tech' 'sport' 'sport' 'business'\n",
      " 'sport' 'tech' 'politics' 'politics' 'entertainment' 'sport' 'business'\n",
      " 'politics' 'tech' 'tech' 'business' 'business' 'business']\n",
      "[[106   0   1   0   1]\n",
      " [  0  91   1   0   0]\n",
      " [  3   0  80   0   0]\n",
      " [  0   0   0  87   0]\n",
      " [  0   0   0   1  74]]\n"
     ]
    },
    {
     "data": {
      "image/png": "[encoded data removed]",
      "text/plain": [
       "<Figure size 432x288 with 2 Axes>"
      ]
     },
     "metadata": {
      "needs_background": "light"
     },
     "output_type": "display_data"
    }
   ],
   "source": [
    "# model test  use test data\n",
    "mlDemo.model_test()\n",
    "mlDemo.show_confusion_matrix_demo()"
   ]
  },
  {
   "cell_type": "code",
   "execution_count": null,
   "metadata": {},
   "outputs": [],
   "source": []
  }
 ],
 "metadata": {
  "kernelspec": {
   "display_name": "Python 3",
   "language": "python",
   "name": "python3"
  },
  "language_info": {
   "codemirror_mode": {
    "name": "ipython",
    "version": 3
   },
   "file_extension": ".py",
   "mimetype": "text/x-python",
   "name": "python",
   "nbconvert_exporter": "python",
   "pygments_lexer": "ipython3",
   "version": "3.7.7"
  }
 },
 "nbformat": 4,
 "nbformat_minor": 4
}
